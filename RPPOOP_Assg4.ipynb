{
 "cells": [
  {
   "cell_type": "code",
   "execution_count": 1,
   "id": "bcd52c1b",
   "metadata": {},
   "outputs": [],
   "source": [
    "from tkinter import *\n",
    "from tkinter import messagebox"
   ]
  },
  {
   "cell_type": "code",
   "execution_count": 2,
   "id": "e172bb43",
   "metadata": {},
   "outputs": [
    {
     "data": {
      "text/plain": [
       "''"
      ]
     },
     "execution_count": 2,
     "metadata": {},
     "output_type": "execute_result"
    }
   ],
   "source": [
    "root = Tk()\n",
    "root.geometry(\"300x300\")"
   ]
  },
  {
   "cell_type": "code",
   "execution_count": 3,
   "id": "cb796d56",
   "metadata": {},
   "outputs": [],
   "source": [
    "# Menubar:\n",
    "def show_msg(item):\n",
    "    messagebox.showinfo(\"Information\", f\"You clicked {item}\")\n",
    "   \n",
    "menubar = Menu(root)\n",
    "\n",
    "menu1 = Menu(menubar, tearoff=0)\n",
    "menu1.add_command(label=\"New\", command=lambda: show_msg(\"New\"))\n",
    "menu1.add_command(label=\"Open\", command=lambda: show_msg(\"Open\"))\n",
    "menu1.add_command(label=\"Save\", command=lambda: show_msg(\"Save\"))\n",
    "menu1.add_command(label=\"Save as..\", command=lambda: show_msg(\"Save as..\"))\n",
    "menu1.add_separator()\n",
    "menu1.add_command(label=\"Quit\", command=root.quit)\n",
    "\n",
    "menu2 = Menu(menubar, tearoff=0)\n",
    "menu2.add_command(label=\"Item1B\", command=lambda: show_msg(\"Item1B\"))\n",
    "menu2.add_separator()\n",
    "menu2.add_command(label=\"Item2B\", command=lambda: show_msg(\"Item2B\"))\n",
    "menu2.add_command(label=\"Item3B\", command=lambda: show_msg(\"Item3B\"))\n",
    "menu2.add_command(label=\"Item4B\", command=lambda: show_msg(\"Item4B\"))\n",
    "menu2.add_command(label=\"Item5B\", command=lambda: show_msg(\"Item5B\"))\n",
    "\n",
    "menu3 = Menu(menubar, tearoff=0)\n",
    "menu3.add_command(label=\"Item1C\", command=lambda: show_msg(\"Item1C\"))\n",
    "menu3.add_command(label=\"Item2C\", command=lambda: show_msg(\"Item2C\"))\n",
    "\n",
    "menubar.add_cascade(label=\"Menu1\", menu=menu1)\n",
    "menubar.add_cascade(label=\"Menu2\", menu=menu2)\n",
    "menubar.add_cascade(label=\"Menu3\", menu=menu3)\n",
    "\n",
    "root.config(menu=menubar)\n"
   ]
  },
  {
   "cell_type": "code",
   "execution_count": 4,
   "id": "49605149",
   "metadata": {},
   "outputs": [],
   "source": [
    "# Labels:\n",
    "var1 = StringVar()\n",
    "var1.set(\"This is label 1\")\n",
    "label1 = Label(root, textvariable=var1, bg=\"yellow\", relief=GROOVE)\n",
    "label1.pack(pady=10)\n",
    "\n",
    "var2 = StringVar()\n",
    "var2.set(\"This is label 2\")\n",
    "label2 = Label(root, textvariable=var2, bg=\"cyan\", relief=GROOVE)\n",
    "label2.pack(pady=10)\n",
    "\n",
    "colors = [\"yellow\", \"green\", \"blue\", \"red\", \"cyan\", \"magenta\", \"pink\", \"purple\", \"orange\", \"brown\", \"beige\", \"turquoise\", \"navy\", \"salmon\", \"lavender\"]\n",
    "\n",
    "\n",
    "label_var = StringVar()\n",
    "label_var.set(\"Label 1\")\n",
    "label_dropdown = OptionMenu(root, label_var, \"Label 1\", \"Label 2\")\n",
    "label_dropdown.pack(pady=10)\n",
    "\n",
    "color_var = StringVar()\n",
    "color_var.set(colors[0])\n",
    "color_dropdown = OptionMenu(root, color_var, *colors)\n",
    "color_dropdown.pack(pady=10)\n",
    "\n",
    "\n",
    "def change_label_color():\n",
    "    if label_var.get() == \"Label 1\":\n",
    "        label1.config(bg=color_var.get())\n",
    "    elif label_var.get() == \"Label 2\":\n",
    "        label2.config(bg=color_var.get())\n",
    "\n",
    "change_button = Button(root, text=\"Change color\", command=change_label_color)\n",
    "change_button.pack(pady=10)\n"
   ]
  },
  {
   "cell_type": "code",
   "execution_count": 5,
   "id": "12581692",
   "metadata": {},
   "outputs": [],
   "source": [
    "root.mainloop()"
   ]
  }
 ],
 "metadata": {
  "kernelspec": {
   "display_name": "Python 3 (ipykernel)",
   "language": "python",
   "name": "python3"
  },
  "language_info": {
   "codemirror_mode": {
    "name": "ipython",
    "version": 3
   },
   "file_extension": ".py",
   "mimetype": "text/x-python",
   "name": "python",
   "nbconvert_exporter": "python",
   "pygments_lexer": "ipython3",
   "version": "3.9.13"
  }
 },
 "nbformat": 4,
 "nbformat_minor": 5
}
