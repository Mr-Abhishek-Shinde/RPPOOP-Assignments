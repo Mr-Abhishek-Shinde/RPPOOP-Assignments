{
 "cells": [
  {
   "cell_type": "markdown",
   "id": "5f060157",
   "metadata": {},
   "source": [
    "# Inheritence:"
   ]
  },
  {
   "cell_type": "markdown",
   "id": "39d5a7ae",
   "metadata": {},
   "source": [
    "##  Creating parent classes:"
   ]
  },
  {
   "cell_type": "code",
   "execution_count": 1,
   "id": "250679d6",
   "metadata": {},
   "outputs": [],
   "source": [
    "class A:\n",
    "    def func1(self):\n",
    "        print(\"This is a function in class A.\")\n",
    "class B:\n",
    "    def func2(self):\n",
    "        print(\"This is a function in class B.\")"
   ]
  },
  {
   "cell_type": "markdown",
   "id": "32dc8f1a",
   "metadata": {},
   "source": [
    "### 1) Single Inheritance:"
   ]
  },
  {
   "cell_type": "code",
   "execution_count": 2,
   "id": "ed6ed0ef",
   "metadata": {},
   "outputs": [],
   "source": [
    "class C(A):\n",
    "    def func3(self):\n",
    "        print(\"This is a function in class C which is a child class of class A.\")"
   ]
  },
  {
   "cell_type": "markdown",
   "id": "9e63d0d4",
   "metadata": {},
   "source": [
    "### 2) Multilevel Inheritance:"
   ]
  },
  {
   "cell_type": "code",
   "execution_count": 3,
   "id": "60a2f746",
   "metadata": {},
   "outputs": [],
   "source": [
    "class D(C):\n",
    "    def func4(self):\n",
    "        print(\"This is a function in class D which is a child class of class C.\")"
   ]
  },
  {
   "cell_type": "markdown",
   "id": "1a830cfa",
   "metadata": {},
   "source": [
    "### 3) Multiple Inheritance:"
   ]
  },
  {
   "cell_type": "code",
   "execution_count": 4,
   "id": "2e2d1841",
   "metadata": {},
   "outputs": [],
   "source": [
    "class E(A, B):\n",
    "    def func5(self):\n",
    "        print(\"This is a function in class E which is a child class of classes A & B.\")"
   ]
  },
  {
   "cell_type": "markdown",
   "id": "101028e1",
   "metadata": {},
   "source": [
    "### 4) Hierarchical Inheritance:"
   ]
  },
  {
   "cell_type": "code",
   "execution_count": 5,
   "id": "9682cf39",
   "metadata": {},
   "outputs": [],
   "source": [
    "class F(B):\n",
    "    def func6(self):\n",
    "        print(\"This is a function in class F which is a child class of class B.\")\n",
    "class G(B):\n",
    "    def func7(self):\n",
    "        print(\"This is a function in class G which is a child class of class B.\")"
   ]
  },
  {
   "cell_type": "markdown",
   "id": "22dff8b3",
   "metadata": {},
   "source": [
    "##  Code To Make This Menu Driven:"
   ]
  },
  {
   "cell_type": "code",
   "execution_count": 6,
   "id": "1e7927e9",
   "metadata": {},
   "outputs": [],
   "source": [
    "def displayMenu():\n",
    "    print(\"Choose an option:\")\n",
    "    print(\"1. Single Inheritance\")\n",
    "    print(\"2. Multilevel Inheritance\")\n",
    "    print(\"3. Multiple Inheritance\")\n",
    "    print(\"4. Hierarchical Inheritance\")\n",
    "    print(\"5. Exit\")"
   ]
  },
  {
   "cell_type": "code",
   "execution_count": 7,
   "id": "67562f17",
   "metadata": {},
   "outputs": [],
   "source": [
    "def handleSingleInher():\n",
    "    obj1 = C()\n",
    "    obj1.func1()\n",
    "    obj1.func3()\n",
    "    print()\n",
    "    return"
   ]
  },
  {
   "cell_type": "code",
   "execution_count": 8,
   "id": "ea5b464d",
   "metadata": {},
   "outputs": [],
   "source": [
    "def handleMultilevelInher():\n",
    "    obj2 = D()\n",
    "    obj2.func1()\n",
    "    obj2.func3()\n",
    "    obj2.func4()\n",
    "    print()\n",
    "    return"
   ]
  },
  {
   "cell_type": "code",
   "execution_count": 9,
   "id": "f4eceb20",
   "metadata": {},
   "outputs": [],
   "source": [
    "def handleMultipleInher():\n",
    "    obj3 = E()\n",
    "    obj3.func1()\n",
    "    obj3.func2()\n",
    "    obj3.func5()\n",
    "    print()\n",
    "    return"
   ]
  },
  {
   "cell_type": "code",
   "execution_count": 10,
   "id": "be3d2d3b",
   "metadata": {},
   "outputs": [],
   "source": [
    "def handleHierarchicalInher():\n",
    "    obj4 = F()\n",
    "    obj4.func2()\n",
    "    obj4.func6()\n",
    "    \n",
    "    obj5 = G()\n",
    "    obj5.func2()\n",
    "    obj5.func7()\n",
    "    print()\n",
    "    return"
   ]
  },
  {
   "cell_type": "code",
   "execution_count": 11,
   "id": "9c34e267",
   "metadata": {},
   "outputs": [
    {
     "name": "stdout",
     "output_type": "stream",
     "text": [
      "Choose an option:\n",
      "1. Single Inheritance\n",
      "2. Multilevel Inheritance\n",
      "3. Multiple Inheritance\n",
      "4. Hierarchical Inheritance\n",
      "5. Exit\n",
      "Enter your choice: 1\n",
      "This is a function in class A.\n",
      "This is a function in class C which is a child class of class A.\n",
      "\n",
      "Choose an option:\n",
      "1. Single Inheritance\n",
      "2. Multilevel Inheritance\n",
      "3. Multiple Inheritance\n",
      "4. Hierarchical Inheritance\n",
      "5. Exit\n",
      "Enter your choice: 2\n",
      "This is a function in class A.\n",
      "This is a function in class C which is a child class of class A.\n",
      "This is a function in class D which is a child class of class C.\n",
      "\n",
      "Choose an option:\n",
      "1. Single Inheritance\n",
      "2. Multilevel Inheritance\n",
      "3. Multiple Inheritance\n",
      "4. Hierarchical Inheritance\n",
      "5. Exit\n",
      "Enter your choice: 3\n",
      "This is a function in class A.\n",
      "This is a function in class B.\n",
      "This is a function in class E which is a child class of classes A & B.\n",
      "\n",
      "Choose an option:\n",
      "1. Single Inheritance\n",
      "2. Multilevel Inheritance\n",
      "3. Multiple Inheritance\n",
      "4. Hierarchical Inheritance\n",
      "5. Exit\n",
      "Enter your choice: 4\n",
      "This is a function in class B.\n",
      "This is a function in class F which is a child class of class B.\n",
      "This is a function in class B.\n",
      "This is a function in class G which is a child class of class B.\n",
      "\n",
      "Choose an option:\n",
      "1. Single Inheritance\n",
      "2. Multilevel Inheritance\n",
      "3. Multiple Inheritance\n",
      "4. Hierarchical Inheritance\n",
      "5. Exit\n",
      "Enter your choice: 5\n",
      "Exiting...\n",
      "Thank you.\n"
     ]
    }
   ],
   "source": [
    "while (True):\n",
    "    displayMenu()\n",
    "    \n",
    "    choice = int(input(\"Enter your choice: \"))\n",
    "    \n",
    "    if(choice == 1):\n",
    "        handleSingleInher()\n",
    "        \n",
    "    elif(choice == 2):\n",
    "        handleMultilevelInher()\n",
    "        \n",
    "    elif(choice == 3):\n",
    "        handleMultipleInher()\n",
    "        \n",
    "    elif(choice == 4):\n",
    "        handleHierarchicalInher()\n",
    "        \n",
    "    elif(choice == 5):\n",
    "        print(\"Exiting...\")\n",
    "        print(\"Thank you.\")\n",
    "        break\n",
    "        \n",
    "    else:\n",
    "        print(\"Invalid choice!\")"
   ]
  }
 ],
 "metadata": {
  "kernelspec": {
   "display_name": "Python 3 (ipykernel)",
   "language": "python",
   "name": "python3"
  },
  "language_info": {
   "codemirror_mode": {
    "name": "ipython",
    "version": 3
   },
   "file_extension": ".py",
   "mimetype": "text/x-python",
   "name": "python",
   "nbconvert_exporter": "python",
   "pygments_lexer": "ipython3",
   "version": "3.9.13"
  }
 },
 "nbformat": 4,
 "nbformat_minor": 5
}
