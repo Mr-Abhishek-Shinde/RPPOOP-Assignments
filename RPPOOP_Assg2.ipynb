{
 "cells": [
  {
   "cell_type": "markdown",
   "id": "cfa825bb",
   "metadata": {},
   "source": [
    "# Polymorphism:"
   ]
  },
  {
   "cell_type": "markdown",
   "id": "8c90ce1b",
   "metadata": {},
   "source": [
    "## 1) Run Time Polymorphism - Method Overriding:"
   ]
  },
  {
   "cell_type": "code",
   "execution_count": 1,
   "id": "ed69555a",
   "metadata": {},
   "outputs": [],
   "source": [
    "class Animal():\n",
    "    def __init__(self):\n",
    "        self.__eyes = 2\n",
    "        self.__ears = 2\n",
    "    def getEyes(self):\n",
    "        return self.__eyes\n",
    "    def setEyes(self, n):\n",
    "        self.__eyes = n\n",
    "        return\n",
    "    def getEars(self):\n",
    "        return self.__ears\n",
    "    def setEars(self, n):\n",
    "        self.__ears = n\n",
    "        return\n",
    "    def talk(self):\n",
    "        pass\n",
    "    def eat(self):\n",
    "        pass"
   ]
  },
  {
   "cell_type": "code",
   "execution_count": 2,
   "id": "6ee3aca2",
   "metadata": {},
   "outputs": [],
   "source": [
    "class Tiger(Animal):\n",
    "    def talk(self):\n",
    "        print(\"Tiger Roars\")\n",
    "    def eat(self):\n",
    "        print(\"Eats Flesh\")"
   ]
  },
  {
   "cell_type": "code",
   "execution_count": 3,
   "id": "8e9eaa42",
   "metadata": {},
   "outputs": [],
   "source": [
    "class Camel(Animal):\n",
    "    def talk(self):\n",
    "        print(\"Camel grunts\")\n",
    "    def eat(self):\n",
    "        print(\"Eats Grass\")"
   ]
  },
  {
   "cell_type": "markdown",
   "id": "4a9f3cac",
   "metadata": {},
   "source": [
    "## 2) Compile Time Polymorphism - Method Overloading:"
   ]
  },
  {
   "cell_type": "code",
   "execution_count": 4,
   "id": "b0901ef1",
   "metadata": {},
   "outputs": [],
   "source": [
    "class Calculator():\n",
    "    def add(self, a, b):\n",
    "        print(a + b)\n",
    "    \n",
    "    def add(self, a, b, c):\n",
    "        print(a + b + c)"
   ]
  },
  {
   "cell_type": "markdown",
   "id": "cfcf41cc",
   "metadata": {},
   "source": [
    "## • Code To Make This Menu Driven:"
   ]
  },
  {
   "cell_type": "code",
   "execution_count": 5,
   "id": "df56220d",
   "metadata": {},
   "outputs": [],
   "source": [
    "def displayMenu():\n",
    "    print(\"Choose an option:\")\n",
    "    print(\"1. Run-time Polymorphism\")\n",
    "    print(\"2. Compile-time Polymorphism\")\n",
    "    print(\"3. Exit\")"
   ]
  },
  {
   "cell_type": "code",
   "execution_count": 6,
   "id": "e28a0534",
   "metadata": {},
   "outputs": [],
   "source": [
    "def runTimePoly():\n",
    "    t1 = Tiger()\n",
    "    c1 = Camel()\n",
    "    \n",
    "    print(\"\\nMethod overriding:\")\n",
    "    \n",
    "    print(\"# Calling talk and eat functions for object of Tiger class:\")\n",
    "    t1.talk()\n",
    "    t1.eat()\n",
    "    print(\"\\n# Calling talk and eat functions for object of Camel class:\")\n",
    "    c1.talk()\n",
    "    c1.eat()\n",
    "    \n",
    "    print()"
   ]
  },
  {
   "cell_type": "code",
   "execution_count": 7,
   "id": "234917a5",
   "metadata": {},
   "outputs": [],
   "source": [
    "def compileTimePoly():\n",
    "    c1 = Calculator()\n",
    "    \n",
    "    print(\"\\nMethod overloading:\")\n",
    "    \n",
    "    print(\"# Trying to call add funtion with two arguments:\")\n",
    "    try:\n",
    "        c1.add(2, 3)\n",
    "    except:\n",
    "        print(\"TypeError: add() missing 1 required positional argument: \\'c\\'\")\n",
    "        \n",
    "    print(\"We got this error because second implementation of add function overloaded the previous implementaion.\")\n",
    "    print(\"\\n# Calling add function with three arguments:\")\n",
    "    c1.add(2, 3, 5)\n",
    "    \n",
    "    print()        "
   ]
  },
  {
   "cell_type": "code",
   "execution_count": 8,
   "id": "f3e1cb05",
   "metadata": {},
   "outputs": [
    {
     "name": "stdout",
     "output_type": "stream",
     "text": [
      "Choose an option:\n",
      "1. Run-time Polymorphism\n",
      "2. Compile-time Polymorphism\n",
      "3. Exit\n",
      "Enter your choice: 1\n",
      "\n",
      "Method overriding:\n",
      "# Calling talk and eat functions for object of Tiger class:\n",
      "Tiger Roars\n",
      "Eats Flesh\n",
      "\n",
      "# Calling talk and eat functions for object of Camel class:\n",
      "Camel grunts\n",
      "Eats Grass\n",
      "\n",
      "Choose an option:\n",
      "1. Run-time Polymorphism\n",
      "2. Compile-time Polymorphism\n",
      "3. Exit\n",
      "Enter your choice: 2\n",
      "\n",
      "Method overloading:\n",
      "# Trying to call add funtion with two arguments:\n",
      "TypeError: add() missing 1 required positional argument: 'c'\n",
      "We got this error because second implementation of add function overloaded the previous implementaion.\n",
      "\n",
      "# Calling add function with three arguments:\n",
      "10\n",
      "\n",
      "Choose an option:\n",
      "1. Run-time Polymorphism\n",
      "2. Compile-time Polymorphism\n",
      "3. Exit\n",
      "Enter your choice: 3\n",
      "Exiting...\n",
      "Thank you.\n"
     ]
    }
   ],
   "source": [
    "while (True):\n",
    "    displayMenu()\n",
    "    \n",
    "    choice = int(input(\"Enter your choice: \"))\n",
    "    \n",
    "    if(choice == 1):\n",
    "        runTimePoly()\n",
    "    elif(choice == 2):\n",
    "        compileTimePoly()\n",
    "    elif(choice == 3):\n",
    "        print(\"Exiting...\")\n",
    "        print(\"Thank you.\")\n",
    "        break\n",
    "    else:\n",
    "        print(\"Invalid choice!\")"
   ]
  }
 ],
 "metadata": {
  "kernelspec": {
   "display_name": "Python 3 (ipykernel)",
   "language": "python",
   "name": "python3"
  },
  "language_info": {
   "codemirror_mode": {
    "name": "ipython",
    "version": 3
   },
   "file_extension": ".py",
   "mimetype": "text/x-python",
   "name": "python",
   "nbconvert_exporter": "python",
   "pygments_lexer": "ipython3",
   "version": "3.9.13"
  }
 },
 "nbformat": 4,
 "nbformat_minor": 5
}
