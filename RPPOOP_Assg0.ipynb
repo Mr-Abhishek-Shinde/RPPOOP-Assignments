{
 "cells": [
  {
   "cell_type": "markdown",
   "id": "f4d62052",
   "metadata": {},
   "source": [
    "### Class"
   ]
  },
  {
   "cell_type": "code",
   "execution_count": 1,
   "id": "e1c85cfa",
   "metadata": {},
   "outputs": [],
   "source": [
    "class Rectangle:\n",
    "#     def __init__(self, l, m):\n",
    "#         self.__length = l\n",
    "#         self.__breadth = m\n",
    "\n",
    "    def __init__(self, *args):\n",
    "        if(len(args) == 0):\n",
    "            self.__length = 0\n",
    "            self.__breadth = 0\n",
    "        elif(len(args) == 1):\n",
    "            self.__length = args[0]\n",
    "            self.__breadth = args[0]\n",
    "        elif(len(args) == 2):\n",
    "            self.__length = args[0]\n",
    "            self.__breadth = args[1]\n",
    "        \n",
    "    def setLength(self, l):\n",
    "        self.__length = l\n",
    "        return\n",
    "    \n",
    "    def setBreadth(self, b):\n",
    "        self.__breadth = b\n",
    "        return\n",
    "    \n",
    "    def getLength(self):\n",
    "        return self.__length\n",
    "    \n",
    "    def getBreadth(self):\n",
    "        return self.__breadth\n",
    "    \n",
    "    def area(self):\n",
    "        area = self.__length * self.__breadth\n",
    "        return area\n",
    "    \n",
    "    def perimeter(self):\n",
    "        peri = 2*(self.__length + self.__breadth)\n",
    "        return peri\n",
    "        "
   ]
  },
  {
   "cell_type": "code",
   "execution_count": 2,
   "id": "06e0b911",
   "metadata": {},
   "outputs": [],
   "source": [
    "r = Rectangle(5, 10)"
   ]
  },
  {
   "cell_type": "markdown",
   "id": "54bef42e",
   "metadata": {},
   "source": [
    "### Dimensions"
   ]
  },
  {
   "cell_type": "code",
   "execution_count": 3,
   "id": "7a2a6f87",
   "metadata": {},
   "outputs": [
    {
     "name": "stdout",
     "output_type": "stream",
     "text": [
      "Length of the reactangle is: 5\n",
      "Breadth of the reactangle is: 10\n"
     ]
    }
   ],
   "source": [
    "print(f\"Length of the reactangle is: {r.getLength()}\")\n",
    "print(f\"Breadth of the reactangle is: {r.getBreadth()}\")"
   ]
  },
  {
   "cell_type": "code",
   "execution_count": 4,
   "id": "43553de6",
   "metadata": {},
   "outputs": [],
   "source": [
    "r.setLength(15)\n",
    "r.setBreadth(10)"
   ]
  },
  {
   "cell_type": "code",
   "execution_count": 5,
   "id": "163c637a",
   "metadata": {},
   "outputs": [
    {
     "name": "stdout",
     "output_type": "stream",
     "text": [
      "Length of the reactangle is: 15\n",
      "Breadth of the reactangle is: 10\n"
     ]
    }
   ],
   "source": [
    "print(f\"Length of the reactangle is: {r.getLength()}\")\n",
    "print(f\"Breadth of the reactangle is: {r.getBreadth()}\")"
   ]
  },
  {
   "cell_type": "markdown",
   "id": "5d94a744",
   "metadata": {},
   "source": [
    "### Area and Perimeter"
   ]
  },
  {
   "cell_type": "code",
   "execution_count": 6,
   "id": "24133106",
   "metadata": {},
   "outputs": [
    {
     "name": "stdout",
     "output_type": "stream",
     "text": [
      "Area of the rectangle is: 150\n",
      "Perimeter if the rectangle is: 50\n"
     ]
    }
   ],
   "source": [
    "print(f\"Area of the rectangle is: {r.area()}\")\n",
    "print(f\"Perimeter if the rectangle is: {r.perimeter()}\")"
   ]
  }
 ],
 "metadata": {
  "kernelspec": {
   "display_name": "Python 3 (ipykernel)",
   "language": "python",
   "name": "python3"
  },
  "language_info": {
   "codemirror_mode": {
    "name": "ipython",
    "version": 3
   },
   "file_extension": ".py",
   "mimetype": "text/x-python",
   "name": "python",
   "nbconvert_exporter": "python",
   "pygments_lexer": "ipython3",
   "version": "3.9.13"
  }
 },
 "nbformat": 4,
 "nbformat_minor": 5
}
